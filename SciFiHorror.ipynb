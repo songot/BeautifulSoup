{
 "cells": [
  {
   "cell_type": "markdown",
   "metadata": {},
   "source": [
    "<h2>Sci-Fi / Horror<h2>"
   ]
  },
  {
   "cell_type": "code",
   "execution_count": null,
   "metadata": {},
   "outputs": [],
   "source": [
    "%%script bash\n",
    "python -m pip install beautifulsoup4\n",
    "python -m pip install requests\n",
    "python -m pip install pandas"
   ]
  },
  {
   "cell_type": "code",
   "execution_count": 5,
   "metadata": {},
   "outputs": [],
   "source": [
    "import requests\n",
    "import pandas as pd\n",
    "from bs4 import BeautifulSoup\n",
    "\n",
    "\n",
    "# Collect first page of SciFi-Horror movies’ list\n",
    "page = requests.get('https://archive.org/details/SciFi_Horror?&sort=-downloads&page=1')\n",
    "\n",
    "# Create a BeautifulSoup object\n",
    "soup = BeautifulSoup(page.text, 'html.parser')\n",
    "\n",
    "# Pull all text from the results div\n",
    "movie_list = soup.find(class_='results')\n",
    "\n",
    "# Remove stealth links\n",
    "stealth_links = movie_list.find_all(class_='stealth')\n",
    "for stealth_link in stealth_links:\n",
    "    stealth_link.decompose()\n",
    "\n",
    "# Pull text from all instances of ttl div within results div\n",
    "movie_list_titles = movie_list.find_all(class_='ttl')\n",
    "\n",
    "# Pull text from all instances of <a> tag within results div\n",
    "movie_list_links = movie_list.find_all('a')\n",
    "\n",
    "# Create lists for titles and links\n",
    "titles = []\n",
    "links = []\n",
    "\n",
    "# Create for loop to print out all movies' titles\n",
    "for movie_title in movie_list_titles:\n",
    "    title = movie_title.contents[0]\n",
    "    titles.append(title)\n",
    "    \n",
    "# Create for loop to print out all movies' titles\n",
    "for movie_link in movie_list_links:\n",
    "    link = 'https://archive.org' + movie_link.get('href')\n",
    "    links.append(link)\n",
    "    \n",
    "# Create pandas DataFrame with titles and links as columns\n",
    "data = {'Titles':titles, 'Links':links}\n",
    "df = pd.DataFrame(data, columns = ['Titles', 'Links'])\n",
    "\n",
    "# Save created DataFrame as .csv file\n",
    "df.to_csv('scifi-horror-movies.csv',index=False)"
   ]
  }
 ],
 "metadata": {
  "kernelspec": {
   "display_name": "Python 3",
   "language": "python",
   "name": "python3"
  },
  "language_info": {
   "codemirror_mode": {
    "name": "ipython",
    "version": 3
   },
   "file_extension": ".py",
   "mimetype": "text/x-python",
   "name": "python",
   "nbconvert_exporter": "python",
   "pygments_lexer": "ipython3",
   "version": "3.7.6"
  }
 },
 "nbformat": 4,
 "nbformat_minor": 4
}
