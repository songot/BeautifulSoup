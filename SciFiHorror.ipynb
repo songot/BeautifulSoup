{
 "cells": [
  {
   "cell_type": "markdown",
   "metadata": {},
   "source": [
    "<h2>Sci-Fi / Horror<h2>"
   ]
  },
  {
   "cell_type": "code",
   "execution_count": null,
   "metadata": {},
   "outputs": [],
   "source": [
    "%%script bash\n",
    "python -m pip install beautifulsoup4\n",
    "python -m pip install requests"
   ]
  },
  {
   "cell_type": "code",
   "execution_count": null,
   "metadata": {},
   "outputs": [],
   "source": [
    "import requests\n",
    "from bs4 import BeautifulSoup\n",
    "\n",
    "\n",
    "# Collect first page of artists’ list\n",
    "page = requests.get('https://archive.org/details/SciFi_Horror?&sort=-downloads&page=1')\n",
    "\n",
    "# Create a BeautifulSoup object\n",
    "soup = BeautifulSoup(page.text, 'html.parser')\n",
    "\n",
    "# Pull all text from the BodyText div\n",
    "movie_title_list = soup.find(class_='results')\n",
    "\n",
    "# Pull text from all instances of <a> tag within BodyText div\n",
    "movie_title_list_items = movie_title_list.find_all(class_='ttl')\n",
    "\n",
    "# Create for loop to print out all artists' names\n",
    "for movie_title in movie_title_list_items:\n",
    "    print(movie_title.prettify())\n",
    "#page.text"
   ]
  }
 ],
 "metadata": {
  "kernelspec": {
   "display_name": "Python 3",
   "language": "python",
   "name": "python3"
  },
  "language_info": {
   "codemirror_mode": {
    "name": "ipython",
    "version": 3
   },
   "file_extension": ".py",
   "mimetype": "text/x-python",
   "name": "python",
   "nbconvert_exporter": "python",
   "pygments_lexer": "ipython3",
   "version": "3.7.6"
  }
 },
 "nbformat": 4,
 "nbformat_minor": 4
}
